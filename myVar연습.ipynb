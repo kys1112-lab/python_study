{
 "cells": [
  {
   "cell_type": "code",
   "execution_count": 4,
   "id": "d5650fce-4a5b-451b-aa08-666cfd864cf4",
   "metadata": {},
   "outputs": [
    {
     "data": {
      "text/plain": [
       "(True, 12, 2.5, '파이썬')"
      ]
     },
     "execution_count": 4,
     "metadata": {},
     "output_type": "execute_result"
    }
   ],
   "source": [
    "myVar = True\n",
    "myVar3 = 2.5\n",
    "myVar4 = '파이썬'\n",
    "\n",
    "myVar2 = 12\n",
    "myVar, myVar2, myVar3, myVar4"
   ]
  },
  {
   "cell_type": "code",
   "execution_count": 3,
   "id": "bd6f5dde-01d8-42af-bf23-7c45b92cd0d7",
   "metadata": {},
   "outputs": [
    {
     "data": {
      "text/plain": [
       "27.5"
      ]
     },
     "execution_count": 3,
     "metadata": {},
     "output_type": "execute_result"
    }
   ],
   "source": [
    "result = 25 + myVar3\n",
    "result"
   ]
  }
 ],
 "metadata": {
  "kernelspec": {
   "display_name": "Python 3 (ipykernel)",
   "language": "python",
   "name": "python3"
  },
  "language_info": {
   "codemirror_mode": {
    "name": "ipython",
    "version": 3
   },
   "file_extension": ".py",
   "mimetype": "text/x-python",
   "name": "python",
   "nbconvert_exporter": "python",
   "pygments_lexer": "ipython3",
   "version": "3.13.5"
  }
 },
 "nbformat": 4,
 "nbformat_minor": 5
}
