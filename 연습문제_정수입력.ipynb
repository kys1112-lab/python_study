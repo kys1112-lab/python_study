{
 "cells": [
  {
   "cell_type": "code",
   "execution_count": 3,
   "id": "dfaa3bc1-3073-43aa-9128-6343fcd3eac6",
   "metadata": {},
   "outputs": [
    {
     "name": "stdin",
     "output_type": "stream",
     "text": [
      "숫자를 입력하세요:  2456\n"
     ]
    },
    {
     "name": "stdout",
     "output_type": "stream",
     "text": [
      "2456.0\n"
     ]
    }
   ],
   "source": [
    "num_int = int(input(\"숫자를 입력하세요: \"))\n",
    "num_float = float(num_int)\n",
    "print(num_float)"
   ]
  },
  {
   "cell_type": "code",
   "execution_count": 4,
   "id": "17622846-3c19-46a8-9e7b-89c3c01e1895",
   "metadata": {},
   "outputs": [
    {
     "name": "stdin",
     "output_type": "stream",
     "text": [
      "숫자를 입력하세요. 225364\n"
     ]
    },
    {
     "name": "stdout",
     "output_type": "stream",
     "text": [
      "225364.0\n"
     ]
    }
   ],
   "source": [
    "input_num = input(\"숫자를 입력하세요.\")\n",
    "num = float(input_num)\n",
    "print(num)"
   ]
  },
  {
   "cell_type": "code",
   "execution_count": null,
   "id": "1f3184e5-58af-4d35-9fc1-e6081f6ee624",
   "metadata": {},
   "outputs": [],
   "source": []
  }
 ],
 "metadata": {
  "kernelspec": {
   "display_name": "Python 3 (ipykernel)",
   "language": "python",
   "name": "python3"
  },
  "language_info": {
   "codemirror_mode": {
    "name": "ipython",
    "version": 3
   },
   "file_extension": ".py",
   "mimetype": "text/x-python",
   "name": "python",
   "nbconvert_exporter": "python",
   "pygments_lexer": "ipython3",
   "version": "3.13.5"
  }
 },
 "nbformat": 4,
 "nbformat_minor": 5
}
