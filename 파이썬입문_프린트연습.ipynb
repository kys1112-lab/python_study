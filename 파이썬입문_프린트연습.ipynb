{
 "cells": [
  {
   "cell_type": "code",
   "execution_count": 1,
   "id": "3e43efc6-f7ab-46b6-875a-3b2cffccc5f1",
   "metadata": {},
   "outputs": [
    {
     "name": "stdout",
     "output_type": "stream",
     "text": [
      "오늘 소개할 작품은 고흐의 1889년 작품 자화상입니다\n",
      "물건이 1개 있어요.\n",
      "물건이 10개 있어요.\n",
      "물건이 100개 있어요.\n",
      "물건이   1개 있어요.\n",
      "물건이  10개 있어요.\n",
      "물건이 100개 있어요.\n",
      "원주율은 3.1입니다.\n",
      "원주율은 3.14입니다.\n",
      "원주율은  3.14입니다.\n"
     ]
    }
   ],
   "source": [
    "print(\"오늘 소개할 작품은 %s의 %d년 작품 %s입니다\" % (\"고흐\", 1889, \"자화상\"))\n",
    "\n",
    "print(\"물건이 %d개 있어요.\" % (1))\n",
    "print(\"물건이 %d개 있어요.\" % (10))\n",
    "print(\"물건이 %d개 있어요.\" % (100))\n",
    "\n",
    "# 자릿수 확보\n",
    "print(\"물건이 %3d개 있어요.\" % (1))  # 3개 숫자가 들어갈 공간을 확보\n",
    "print(\"물건이 %3d개 있어요.\" % (10))\n",
    "print(\"물건이 %3d개 있어요.\" % (100))\n",
    "\n",
    "# 소수점 처리\n",
    "print(\"원주율은 %.1f입니다.\" % (3.141592))  # 소수점 1자리까지\n",
    "print(\"원주율은 %.2f입니다.\" % (3.141592))  # 소수점 2자리까지\n",
    "print(\"원주율은 %5.2f입니다.\" % (3.141592))  # 5자리 공간 확보하고, 소수점 2자리까지"
   ]
  },
  {
   "cell_type": "code",
   "execution_count": null,
   "id": "cba0ac75-30f2-4b96-9e1b-c7792eddb757",
   "metadata": {},
   "outputs": [],
   "source": []
  }
 ],
 "metadata": {
  "kernelspec": {
   "display_name": "Python 3 (ipykernel)",
   "language": "python",
   "name": "python3"
  },
  "language_info": {
   "codemirror_mode": {
    "name": "ipython",
    "version": 3
   },
   "file_extension": ".py",
   "mimetype": "text/x-python",
   "name": "python",
   "nbconvert_exporter": "python",
   "pygments_lexer": "ipython3",
   "version": "3.13.5"
  }
 },
 "nbformat": 4,
 "nbformat_minor": 5
}
