{
  "nbformat": 4,
  "nbformat_minor": 0,
  "metadata": {
    "colab": {
      "provenance": [],
      "authorship_tag": "ABX9TyPzHn2BV/oEO5GUgF+rVHuR",
      "include_colab_link": true
    },
    "kernelspec": {
      "name": "python3",
      "display_name": "Python 3"
    },
    "language_info": {
      "name": "python"
    }
  },
  "cells": [
    {
      "cell_type": "markdown",
      "metadata": {
        "id": "view-in-github",
        "colab_type": "text"
      },
      "source": [
        "<a href=\"https://colab.research.google.com/github/kys1112-lab/python_study/blob/main/Untitled2.ipynb\" target=\"_parent\"><img src=\"https://colab.research.google.com/assets/colab-badge.svg\" alt=\"Open In Colab\"/></a>"
      ]
    },
    {
      "cell_type": "code",
      "execution_count": 1,
      "metadata": {
        "colab": {
          "base_uri": "https://localhost:8080/"
        },
        "id": "DytYFx1xtcu_",
        "outputId": "27414f35-9c8e-4133-dab1-b239b0e5e145"
      },
      "outputs": [
        {
          "name": "stdout",
          "output_type": "stream",
          "text": [
            "하나\n",
            "하나, 둘\n",
            "하나, 둘\n",
            "\n",
            "당신의 이름은?: 김용성\n",
            "당신의 키는?(cm): 181\n",
            "당신의 몸무게는?(kg): 75\n"
          ]
        }
      ],
      "source": [
        "print('{0}'.format('하나'))       # 1개 변수\n",
        "print('{0}, {1}'.format('하나', '둘')) # 2개 변수\n",
        "print('{}, {}'.format('하나', '둘')) # 숫자를 써주지 않아도 된다\n",
        "\n",
        "print()\n",
        "name = input('당신의 이름은?: ')\n",
        "height = float(input('당신의 키는?(cm): '))\n",
        "weight = float(input('당신의 몸무게는?(kg): '))\n",
        "\n",
        "height2 = height / 100               # bmi 계산을 위해 단위 조정\n",
        "bmi = weight / (height2 * height2)   # 또는 weight / (height**2)"
      ]
    },
    {
      "cell_type": "code",
      "source": [
        "print(\"\\n{0}님의 키와 몸무게는 아래와 같습니다.\".format(name))\n",
        "print(\"{0:7}cm\".format(height))\n",
        "print(\"{0:7}kg\".format(weight))\n",
        "\n",
        "# 소수점 정리를 할 때는 순서를 밝혀주면서 콜론을 사용해야 한다\n",
        "comment = \"\\n{0}님의 bmi는 {1}/({2}*{2})이므로 {3:.2f}입니다.\"\n",
        "print(comment.format(name, weight, height2, bmi))\n",
        "\n",
        "# 공간 확보와 소수점 정리\n",
        "print(\"\\n{0}님의 키, 몸무게, bmi는 아래와 같습니다.\".format(name))\n",
        "print(\"{0:7.2f}cm\".format(height))\n",
        "print(\"{0:7.2f}kg\".format(weight))\n",
        "print(\"{0:7.2f}\".format(bmi))"
      ],
      "metadata": {
        "colab": {
          "base_uri": "https://localhost:8080/"
        },
        "id": "h665p7OZtm1k",
        "outputId": "94a1f3e6-151b-4aee-de5d-eb4827a0cd8e"
      },
      "execution_count": 2,
      "outputs": [
        {
          "output_type": "stream",
          "name": "stdout",
          "text": [
            "\n",
            "김용성님의 키와 몸무게는 아래와 같습니다.\n",
            "  181.0cm\n",
            "   75.0kg\n",
            "\n",
            "김용성님의 bmi는 75.0/(1.81*1.81)이므로 22.89입니다.\n",
            "\n",
            "김용성님의 키, 몸무게, bmi는 아래와 같습니다.\n",
            " 181.00cm\n",
            "  75.00kg\n",
            "  22.89\n"
          ]
        }
      ]
    }
  ]
}