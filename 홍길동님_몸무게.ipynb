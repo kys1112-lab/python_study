{
 "cells": [
  {
   "cell_type": "code",
   "execution_count": 3,
   "id": "bbe84435-a026-49c1-95bd-5f37caf1fcdc",
   "metadata": {},
   "outputs": [
    {
     "name": "stdout",
     "output_type": "stream",
     "text": [
      "당신의 정보를 기록합니다~\n",
      "\n",
      "홍길동님의 몸무게는 76.80, 키는 171입니다.\n"
     ]
    }
   ],
   "source": [
    "print(\"당신의 정보를 기록합니다~\\n\")\n",
    "\n",
    "name = \"홍길동\"  #%s 문자열\n",
    "weight = 76.8  #%.2f (~f -> 몇번째 자리까지 표시)\n",
    "height = 171  #%d 정수\n",
    "\n",
    "print(\"%s님의 몸무게는 %.2f, 키는 %d입니다.\" % (name, weight, height))\n"
   ]
  },
  {
   "cell_type": "code",
   "execution_count": null,
   "id": "e679fc83-9832-4c41-952c-84729899f41f",
   "metadata": {},
   "outputs": [],
   "source": []
  }
 ],
 "metadata": {
  "kernelspec": {
   "display_name": "Python 3 (ipykernel)",
   "language": "python",
   "name": "python3"
  },
  "language_info": {
   "codemirror_mode": {
    "name": "ipython",
    "version": 3
   },
   "file_extension": ".py",
   "mimetype": "text/x-python",
   "name": "python",
   "nbconvert_exporter": "python",
   "pygments_lexer": "ipython3",
   "version": "3.13.5"
  }
 },
 "nbformat": 4,
 "nbformat_minor": 5
}
