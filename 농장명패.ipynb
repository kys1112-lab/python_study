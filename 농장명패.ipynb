{
  "nbformat": 4,
  "nbformat_minor": 0,
  "metadata": {
    "colab": {
      "provenance": [],
      "authorship_tag": "ABX9TyN/KtpYL/HFZ7XRQ1AODvwC",
      "include_colab_link": true
    },
    "kernelspec": {
      "name": "python3",
      "display_name": "Python 3"
    },
    "language_info": {
      "name": "python"
    }
  },
  "cells": [
    {
      "cell_type": "markdown",
      "metadata": {
        "id": "view-in-github",
        "colab_type": "text"
      },
      "source": [
        "<a href=\"https://colab.research.google.com/github/kys1112-lab/python_study/blob/main/%EB%86%8D%EC%9E%A5%EB%AA%85%ED%8C%A8.ipynb\" target=\"_parent\"><img src=\"https://colab.research.google.com/assets/colab-badge.svg\" alt=\"Open In Colab\"/></a>"
      ]
    },
    {
      "cell_type": "code",
      "execution_count": 4,
      "metadata": {
        "colab": {
          "base_uri": "https://localhost:8080/"
        },
        "id": "C2GGViUreaZp",
        "outputId": "239de92b-8422-4ca0-998d-84922951240f"
      },
      "outputs": [
        {
          "output_type": "stream",
          "name": "stdout",
          "text": [
            "[제일농장]의 닭 [제일농장]의 소 [제일농장]의 돼지 [우리농장]의 닭 [우리농장]의 소 [우리농장]의 돼지 [한국농장]의 닭 [한국농장]의 소 [한국농장]의 돼지 "
          ]
        }
      ],
      "source": [
        "farm_list = [\"제일농장\", \"우리농장\", \"한국농장\"]\n",
        "animal_list = [\"닭\", \"소\", \"돼지\"]\n",
        "\n",
        "for farm in farm_list:#farm_list를 순회하는 바깥쪽 for 반복문\n",
        "  for animal in animal_list:#animal_list를 순회하는 안쪽 for 반복문\n",
        "    print(\"[\" + farm + \"]의 \" + animal, end=\" \")"
      ]
    }
  ]
}