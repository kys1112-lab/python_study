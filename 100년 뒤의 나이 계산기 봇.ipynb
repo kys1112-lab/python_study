{
 "cells": [
  {
   "cell_type": "code",
   "execution_count": 1,
   "id": "d5c542da-3095-48cd-a65d-de6bf1f0f76c",
   "metadata": {},
   "outputs": [
    {
     "name": "stdin",
     "output_type": "stream",
     "text": [
      "당신의 이름은? 김용성\n",
      "태어난 연도(숫자 4자리)? 2000\n"
     ]
    },
    {
     "name": "stdout",
     "output_type": "stream",
     "text": [
      "안녕하세요, 김용성님. 당신의 현재 나이는 25살입니다. 100년 뒤에는 125살이 되시겠네요!\n"
     ]
    }
   ],
   "source": [
    "name = input(\"당신의 이름은?\") #이름 입력\n",
    "birth_year_num = int(input(\"태어난 연도(숫자 4자리)?\"))#태어난 연도\n",
    "\n",
    "current_year = 2025#현재 연도\n",
    "current_age = current_year - birth_year_num#현재 나이 = 현재 연도 - 태어난 연도\n",
    "\n",
    "future_age = current_age + 100 \n",
    "\n",
    "print(\"안녕하세요, \" + name + \"님. 당신의 현재 나이는 \" + str(current_age) + \"살입니다. 100년 뒤에는 \" + str(future_age) + \"살이 되시겠네요!\")\n",
    "#숫자들을 문자열로 변환 -> 연산자로 합쳐서 출력"
   ]
  },
  {
   "cell_type": "code",
   "execution_count": null,
   "id": "9342b3e5-8892-4be3-ac7c-4b38025b307e",
   "metadata": {},
   "outputs": [],
   "source": []
  }
 ],
 "metadata": {
  "kernelspec": {
   "display_name": "Python 3 (ipykernel)",
   "language": "python",
   "name": "python3"
  },
  "language_info": {
   "codemirror_mode": {
    "name": "ipython",
    "version": 3
   },
   "file_extension": ".py",
   "mimetype": "text/x-python",
   "name": "python",
   "nbconvert_exporter": "python",
   "pygments_lexer": "ipython3",
   "version": "3.13.5"
  }
 },
 "nbformat": 4,
 "nbformat_minor": 5
}
